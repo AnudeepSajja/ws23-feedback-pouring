{
 "cells": [
  {
   "cell_type": "code",
   "execution_count": 10,
   "metadata": {},
   "outputs": [],
   "source": [
    "import numpy as np\n",
    "import math\n",
    "import pandas as pd"
   ]
  },
  {
   "cell_type": "code",
   "execution_count": 11,
   "metadata": {},
   "outputs": [],
   "source": [
    "# wrench_data = pd.read_csv('wrench_estimation_initial.csv')\n",
    "fx = -4.18784\n",
    "fy = -0.303307\n",
    "fz = 0.543984\t\n",
    "tx = -0.179523\n",
    "ty = 0.544781\n",
    "tz = -11.9902"
   ]
  },
  {
   "cell_type": "code",
   "execution_count": 19,
   "metadata": {},
   "outputs": [
    {
     "name": "stdout",
     "output_type": "stream",
     "text": [
      "Weight in grams when NO bottle:  44.00996415662139\n",
      "Weight in grams 75% of the bottle is filled:  24.330817142899967\n",
      "Weight in grams bottle is EMPTY:  38.60024674228021\n"
     ]
    }
   ],
   "source": [
    "def estimateWeightInGrams(fx, fy, fz):\n",
    "    resultant_force = math.sqrt(fx**2 + fy**2 + fz**2)\n",
    "\n",
    "    gravity = 9.81 \n",
    "    weight = resultant_force / gravity\n",
    "\n",
    "    weightGrams = weight * 101.97162129779284\n",
    "\n",
    "    # print(\"Weight in N acting on the end effector: \", weight)\n",
    "\n",
    "    return weightGrams\n",
    "\n",
    "\n",
    "print(\"Weight in grams when NO bottle: \", estimateWeightInGrams(-4.18784,-0.303307,0.543984))\n",
    "print(\"Weight in grams 75% of the bottle is filled: \", estimateWeightInGrams(-1.64722,-0.211755,1.64946))\n",
    "print(\"Weight in grams bottle is EMPTY: \", estimateWeightInGrams(-3.60952,-0.24078,0.838594))\n",
    "\n"
   ]
  },
  {
   "cell_type": "code",
   "execution_count": 20,
   "metadata": {},
   "outputs": [
    {
     "name": "stdout",
     "output_type": "stream",
     "text": [
      "Weight in grams that the end effector is holding (No Bottle):  55.45198776758409\n"
     ]
    }
   ],
   "source": [
    "fz_no_bottle = 0.543984  # z-component of the force\n",
    "\n",
    "gravity = 9.81  # m/s^2 (acceleration due to gravity)\n",
    "weight_no_bottle = fz_no_bottle / gravity  \n",
    "\n",
    "# Convert the weight to grams\n",
    "weight_grams_no_bottle = weight_no_bottle * 1000  # Weight in grams\n",
    "\n",
    "print(\"Weight in grams that the end effector is holding (No Bottle): \", weight_grams_no_bottle)"
   ]
  },
  {
   "cell_type": "code",
   "execution_count": 24,
   "metadata": {},
   "outputs": [
    {
     "name": "stdout",
     "output_type": "stream",
     "text": [
      "The weight of the object that the end effector is holding is approximately 12728.70 g\n",
      "The weight of the object that the end effector is holding is approximately 12072.09 g\n"
     ]
    }
   ],
   "source": [
    "import math\n",
    "\n",
    "def calculate_weight(fx, fy, fz, tx, ty, tz):\n",
    "    # Calculate the weight using the formula: W = sqrt((fx^2 + fy^2 + fz^2) + (tx^2 + ty^2 + tz^2))\n",
    "    weight = math.sqrt(fx**2 + fy**2 + fz**2 + tx**2 + ty**2 + tz**2)\n",
    "    return weight * 1000\n",
    "\n",
    "# Example force and torque values\n",
    "fx = -4.18784\n",
    "fy = -0.303307\n",
    "fz = 0.543984\n",
    "tx = -0.179523\n",
    "ty = 0.544781\n",
    "tz = -11.9902\n",
    "\n",
    "# Calculate weight\n",
    "result1 = calculate_weight(fx, fy, fz, tx, ty, tz)\n",
    "result2 = calculate_weight(1.64722,-0.211755,1.64946, -0.184284,0.255489,-11.8388)\n",
    "\n",
    "# Print the result\n",
    "print(f\"The weight of the object that the end effector is holding is approximately {result1:.2f} g\")\n",
    "print(f\"The weight of the object that the end effector is holding is approximately {result2:.2f} g\")"
   ]
  },
  {
   "cell_type": "code",
   "execution_count": 27,
   "metadata": {},
   "outputs": [
    {
     "name": "stdout",
     "output_type": "stream",
     "text": [
      "Weight that end effector is holding is when NO BOTTLE:  0.055451987767584095 kg\n",
      "Weight that end effector is holding is 75% filled bottle:  0.1681406727828746 kg\n",
      "Weight that end effector is holding is EMPTY BOTTLE:  0.08548358817533129 kg\n"
     ]
    }
   ],
   "source": [
    "g = 9.81  # acceleration due to gravity\n",
    "\n",
    "\n",
    "fz1 = 0.543984\n",
    "W1 = fz1 / g\n",
    "\n",
    "fz2 = 1.64946\n",
    "W2 = fz2 / g\n",
    "\n",
    "fz3 = 0.838594\n",
    "W3 = fz3 / g\n",
    "\n",
    "print(\"Weight that end effector is holding is when NO BOTTLE: \", W1, \"kg\")\n",
    "print(\"Weight that end effector is holding is 75% filled bottle: \", W2, \"kg\")\n",
    "print(\"Weight that end effector is holding is EMPTY BOTTLE: \", W3, \"kg\")"
   ]
  },
  {
   "cell_type": "code",
   "execution_count": 1,
   "metadata": {},
   "outputs": [
    {
     "name": "stdout",
     "output_type": "stream",
     "text": [
      "Mass estimate (static): 17.280524220541604\n"
     ]
    }
   ],
   "source": [
    "import numpy as np\n",
    "\n",
    "def magnitude(wrench):\n",
    "    # Calculate magnitude of wrench\n",
    "    force = np.linalg.norm(wrench[:3])\n",
    "    torque = np.linalg.norm(wrench[3:])\n",
    "\n",
    "    # Combine force and torque\n",
    "    magnitude = np.sqrt(force**2 + torque**2)\n",
    "\n",
    "    return magnitude\n",
    "\n",
    "# Example wrench\n",
    "wrench = np.array([7.02917,\t-9.40869,\t2.18786\t,-0.389149,\t-0.206618,\t-12.4781\n",
    "\n",
    "])\n",
    "\n",
    "# Estimate mass from wrench\n",
    "mass_estimate = magnitude(wrench)\n",
    "print(\"Mass estimate (static):\", mass_estimate)\n"
   ]
  },
  {
   "cell_type": "code",
   "execution_count": null,
   "metadata": {},
   "outputs": [],
   "source": []
  }
 ],
 "metadata": {
  "kernelspec": {
   "display_name": "myFirstEnv",
   "language": "python",
   "name": "python3"
  },
  "language_info": {
   "codemirror_mode": {
    "name": "ipython",
    "version": 3
   },
   "file_extension": ".py",
   "mimetype": "text/x-python",
   "name": "python",
   "nbconvert_exporter": "python",
   "pygments_lexer": "ipython3",
   "version": "3.8.10"
  }
 },
 "nbformat": 4,
 "nbformat_minor": 2
}
